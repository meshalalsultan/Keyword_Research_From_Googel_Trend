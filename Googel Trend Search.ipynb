{
 "cells": [
  {
   "cell_type": "code",
   "execution_count": 1,
   "metadata": {},
   "outputs": [],
   "source": [
    "import pandas as pd\n",
    "from pytrends.request import TrendReq\n",
    "import matplotlib.pyplot as plt\n",
    "trends = TrendReq()"
   ]
  },
  {
   "cell_type": "code",
   "execution_count": 2,
   "metadata": {},
   "outputs": [
    {
     "name": "stdout",
     "output_type": "stream",
     "text": [
      "                                        Data Science\n",
      "geoName                                             \n",
      "Vatican City                                       0\n",
      "Bhutan                                             0\n",
      "Falkland Islands (Islas Malvinas)                  0\n",
      "Haiti                                              0\n",
      "China                                            100\n",
      "Denmark                                           15\n",
      "Timor-Leste                                        0\n",
      "Tonga                                              0\n",
      "Mayotte                                            0\n",
      "Fiji                                               0\n",
      "Bahrain                                            0\n",
      "Iceland                                            0\n",
      "Guyana                                             0\n",
      "Colombia                                           7\n",
      "Finland                                           13\n",
      "Venezuela                                          0\n",
      "Dominican Republic                                 0\n",
      "Svalbard & Jan Mayen                               0\n",
      "Burkina Faso                                       0\n",
      "South Georgia & South Sandwich Islands             0\n"
     ]
    }
   ],
   "source": [
    "#Keyword Interest By Region\n",
    "\n",
    "trends.build_payload(kw_list=[\"Data Science\"])\n",
    "data = trends.interest_by_region()\n",
    "print(data.sample(20))"
   ]
  },
  {
   "cell_type": "markdown",
   "metadata": {},
   "source": [
    "Values ​​are calculated on a scale of 0 to 100, where 100 is the most popular location as a fraction of the total searches for that location, a value of 50 indicates a location half as popular.\n",
    "Now let’s visualize the above search results to get better insights:"
   ]
  },
  {
   "cell_type": "code",
   "execution_count": 3,
   "metadata": {},
   "outputs": [
    {
     "data": {
      "image/png": "[encoded data removed]",
      "text/plain": [
       "<Figure size 1440x576 with 1 Axes>"
      ]
     },
     "metadata": {
      "needs_background": "light"
     },
     "output_type": "display_data"
    }
   ],
   "source": [
    "df = data.sample(15)\n",
    "df.reset_index().plot(x=\"geoName\", y=\"Data Science\", figsize=(20,8), kind=\"bar\")\n",
    "plt.show()"
   ]
  },
  {
   "cell_type": "markdown",
   "metadata": {},
   "source": [
    "## Get Tranding Seartch"
   ]
  },
  {
   "cell_type": "code",
   "execution_count": 22,
   "metadata": {},
   "outputs": [
    {
     "name": "stdout",
     "output_type": "stream",
     "text": [
      "                      0\n",
      "0              Steelers\n",
      "1      Demaryius Thomas\n",
      "2       Jussie Smollett\n",
      "3           Josh Duggar\n",
      "4  Winter storm warning\n",
      "5      Game Awards 2021\n",
      "6              Bob Dole\n",
      "7     Star Wars Eclipse\n",
      "8     Purdue basketball\n",
      "9            Jeff Hardy\n"
     ]
    }
   ],
   "source": [
    "data = trends.trending_searches(pn=\"united_states\")\n",
    "print(data.head(10))"
   ]
  },
  {
   "cell_type": "markdown",
   "metadata": {},
   "source": [
    "## Get today seartch in US"
   ]
  },
  {
   "cell_type": "code",
   "execution_count": 5,
   "metadata": {},
   "outputs": [
    {
     "name": "stdout",
     "output_type": "stream",
     "text": [
      "0                           Steelers\n",
      "1                   Demaryius Thomas\n",
      "2                    Jussie Smollett\n",
      "3                        Josh Duggar\n",
      "4               Winter storm warning\n",
      "5                   Game Awards 2021\n",
      "6                           Bob Dole\n",
      "7                  Star Wars Eclipse\n",
      "8                  Purdue basketball\n",
      "9                         Jeff Hardy\n",
      "10    MSNBC Brian Williams 11th Hour\n",
      "11                     Vicky Kaushal\n",
      "12                           Rockets\n",
      "13                     Willie Garson\n",
      "14                        Pat McAfee\n",
      "15             Iowa State basketball\n",
      "16                      Olivia Wilde\n",
      "17                           Supreme\n",
      "18                        Evergrande\n",
      "19                        Ed Sheeran\n",
      "Name: query, dtype: object\n"
     ]
    }
   ],
   "source": [
    "today_searches_df = trends.today_searches(pn='US')\n",
    "print(today_searches_df.head(20))"
   ]
  },
  {
   "cell_type": "code",
   "execution_count": 6,
   "metadata": {},
   "outputs": [
    {
     "name": "stdout",
     "output_type": "stream",
     "text": [
      "            title       type\n",
      "0            Diet  Nutrition\n",
      "1         Dieting      Topic\n",
      "2       Dietitian      Topic\n",
      "3  Ketogenic diet      Topic\n",
      "4    Healthy diet      Topic\n"
     ]
    }
   ],
   "source": [
    "# Get Google Keyword Suggestions\n",
    "suggestions_dict = trends.suggestions(keyword='diet')\n",
    "print(pd.DataFrame(suggestions_dict).drop('mid', axis=1))"
   ]
  },
  {
   "cell_type": "code",
   "execution_count": 7,
   "metadata": {},
   "outputs": [
    {
     "name": "stdout",
     "output_type": "stream",
     "text": [
      "                title    type\n",
      "0            Veganism   Topic\n",
      "1           Vegetable    Food\n",
      "2  Artificial leather   Topic\n",
      "3        Vegan cheese   Topic\n",
      "4      Black-eyed pea  Legume\n"
     ]
    }
   ],
   "source": [
    "suggestions_dict = trends.suggestions(keyword='vegan')\n",
    "print(pd.DataFrame(suggestions_dict).drop('mid', axis=1))"
   ]
  },
  {
   "cell_type": "code",
   "execution_count": 12,
   "metadata": {},
   "outputs": [],
   "source": [
    "# Create payload and capture API tokens. Only needed for interest_over_time(), interest_by_region() &amp; related_queries()\n",
    "trends.build_payload(kw_list=['Omicron'])"
   ]
  },
  {
   "cell_type": "code",
   "execution_count": 13,
   "metadata": {},
   "outputs": [
    {
     "name": "stdout",
     "output_type": "stream",
     "text": [
      "            Omicron isPartial\n",
      "date                         \n",
      "2021-10-03        0     False\n",
      "2021-10-10        0     False\n",
      "2021-10-17        0     False\n",
      "2021-10-24        0     False\n",
      "2021-10-31        0     False\n",
      "2021-11-07        0     False\n",
      "2021-11-14        0     False\n",
      "2021-11-21       16     False\n",
      "2021-11-28      100     False\n",
      "2021-12-05       61      True\n"
     ]
    }
   ],
   "source": [
    "interest_over_time_df = trends.interest_over_time()\n",
    "print(interest_over_time_df.tail(10))"
   ]
  },
  {
   "cell_type": "code",
   "execution_count": 14,
   "metadata": {},
   "outputs": [
    {
     "name": "stdout",
     "output_type": "stream",
     "text": [
      "                      Omicron\n",
      "geoName                      \n",
      "Cuba                      100\n",
      "Singapore                  50\n",
      "United Arab Emirates       36\n",
      "Canada                     31\n",
      "Australia                  29\n",
      "South Africa               29\n",
      "Qatar                      26\n",
      "Nepal                      25\n",
      "India                      24\n",
      "New Zealand                23\n",
      "United Kingdom             23\n",
      "Mexico                     23\n",
      "Puerto Rico                21\n",
      "Malaysia                   20\n",
      "United States              20\n",
      "Ireland                    20\n",
      "Hong Kong                  19\n",
      "Panama                     18\n",
      "Philippines                17\n",
      "Paraguay                   16\n"
     ]
    }
   ],
   "source": [
    "# Interest by Region\n",
    "interest_by_region_df = trends.interest_by_region()\n",
    "print(interest_by_region_df.sort_values(['Omicron'], ascending=False).head(20))"
   ]
  },
  {
   "cell_type": "markdown",
   "metadata": {},
   "source": [
    "## Related Queries\n",
    "Pytrends can also help you find keywords that are closely tied to a primary keyword of your choice and then return a list of related keywords shown on Google Trends. Let us find a list of related queries for “machine learning” and return the top queries."
   ]
  },
  {
   "cell_type": "code",
   "execution_count": 15,
   "metadata": {},
   "outputs": [
    {
     "name": "stdout",
     "output_type": "stream",
     "text": [
      "                       query  value\n",
      "0            omicron variant    100\n",
      "1              omicron covid     62\n",
      "2                      covid     61\n",
      "3              omicron india     30\n",
      "4           omicron symptoms     27\n",
      "5              omicron cases     26\n",
      "6              covid variant     25\n",
      "7      covid omicron variant     24\n",
      "8              omicron virus     23\n",
      "9           variante omicron     19\n",
      "10          omicron in india     18\n",
      "11              omicron news     16\n",
      "12           omicron meaning     15\n",
      "13       omicron india cases     14\n",
      "14    omicron cases in india     13\n",
      "15          covid 19 omicron     12\n",
      "16                  covid 19     12\n",
      "17          sintomas omicron     12\n",
      "18  omicron variant symptoms     10\n",
      "19             delta omicron      9\n",
      "                       query    value\n",
      "0            omicron variant  2037150\n",
      "1              omicron covid  1267250\n",
      "2                      covid  1234900\n",
      "3           omicron symptoms   546850\n",
      "4              covid variant   506750\n",
      "5      covid omicron variant   491050\n",
      "6              omicron virus   468100\n",
      "7           variante omicron   396900\n",
      "8        omicron india cases   277700\n",
      "9     omicron cases in india   255850\n",
      "10          covid 19 omicron   246100\n",
      "11                  covid 19   242650\n",
      "12          sintomas omicron   239050\n",
      "13  omicron variant symptoms   203100\n",
      "14       the omicron variant   170850\n",
      "15  covid 19 omicron variant   158900\n",
      "16           omicron vaccine   138300\n",
      "17       coronavirus omicron   137250\n",
      "18               covid cases   122000\n",
      "19       symptoms of omicron   110250\n"
     ]
    }
   ],
   "source": [
    "# Related Queries, returns a dictionary of dataframes\n",
    "related_queries_dict = trends.related_queries()\n",
    "print(related_queries_dict['Omicron']['top'].head(20))\n",
    "print(related_queries_dict['Omicron']['rising'].head(20))"
   ]
  },
  {
   "cell_type": "code",
   "execution_count": 16,
   "metadata": {},
   "outputs": [],
   "source": [
    "keyword = trends.suggestions(keyword=\"Data Analisis\")\n",
    "data = pd.DataFrame(keyword)"
   ]
  },
  {
   "cell_type": "markdown",
   "metadata": {},
   "source": [
    "## Google Keyword Suggestion\n",
    "Now, let’s see how we can get the google keywords suggestion for keyword research with python.\n",
    "Keywords are those words that are mostly typed by users in the search engine to find about a particular topic:"
   ]
  },
  {
   "cell_type": "code",
   "execution_count": 17,
   "metadata": {},
   "outputs": [
    {
     "name": "stdout",
     "output_type": "stream",
     "text": [
      "          mid              title            type\n",
      "0   /m/07zy4y      Data analysis           Topic\n",
      "1  /m/0jt3_q3       Data science  Field of study\n",
      "2    /m/0blvg        Data mining           Topic\n",
      "3    /m/0274f     Data warehouse           Topic\n",
      "4   /m/04vc86  Data-flow diagram           Topic\n"
     ]
    }
   ],
   "source": [
    "print(data.head())"
   ]
  }
 ],
 "metadata": {
  "kernelspec": {
   "display_name": "Python 3",
   "language": "python",
   "name": "python3"
  },
  "language_info": {
   "codemirror_mode": {
    "name": "ipython",
    "version": 3
   },
   "file_extension": ".py",
   "mimetype": "text/x-python",
   "name": "python",
   "nbconvert_exporter": "python",
   "pygments_lexer": "ipython3",
   "version": "3.8.1"
  }
 },
 "nbformat": 4,
 "nbformat_minor": 4
}
